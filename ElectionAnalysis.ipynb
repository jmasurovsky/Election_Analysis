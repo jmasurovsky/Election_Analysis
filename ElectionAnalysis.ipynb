{
 "cells": [
  {
   "cell_type": "markdown",
   "metadata": {},
   "source": [
    "## Election Analysis"
   ]
  },
  {
   "cell_type": "code",
   "execution_count": 1,
   "metadata": {},
   "outputs": [],
   "source": [
    "num_candidates = 3\n",
    "winning_percentage = 73.81\n",
    "candidate = \"Diane\"\n",
    "won_election = True"
   ]
  },
  {
   "cell_type": "code",
   "execution_count": 2,
   "metadata": {},
   "outputs": [
    {
     "data": {
      "text/plain": [
       "['Arapahoe', 'Denver', 'Jefferson']"
      ]
     },
     "execution_count": 2,
     "metadata": {},
     "output_type": "execute_result"
    }
   ],
   "source": [
    "counties = [\"Arapahoe\",\"Denver\",\"Jefferson\"]\n",
    "counties.append(\"El Paso\")\n",
    "counties.insert(2, \"El Paso\")\n",
    "counties.remove(\"El Paso\")\n",
    "counties.pop(-1)\n",
    "counties"
   ]
  },
  {
   "cell_type": "code",
   "execution_count": 3,
   "metadata": {},
   "outputs": [],
   "source": [
    "counties = ['El Paso','Jefferson','Denver','Arapahoe']"
   ]
  },
  {
   "cell_type": "code",
   "execution_count": 4,
   "metadata": {},
   "outputs": [
    {
     "name": "stdout",
     "output_type": "stream",
     "text": [
      "hello Arapahoe\n",
      "hello Denver\n",
      "hello Jefferson\n",
      "hello El Paso\n"
     ]
    }
   ],
   "source": [
    "def printname(counties):\n",
    "    for name in counties[::-1]:\n",
    "        print(\"hello \" + name)\n",
    "        \n",
    "printname(counties)"
   ]
  },
  {
   "cell_type": "code",
   "execution_count": 7,
   "metadata": {},
   "outputs": [],
   "source": [
    "counties_dict = {}\n",
    "\n",
    "counties_dict[\"Arapahoe\"] = 422829\n",
    "counties_dict[\"Denver\"] = 463353\n",
    "counties_dict[\"Jefferson\"] = 432438"
   ]
  },
  {
   "cell_type": "code",
   "execution_count": 10,
   "metadata": {},
   "outputs": [
    {
     "data": {
      "text/plain": [
       "dict_items([('Arapahoe', 422829), ('Denver', 463353), ('Jefferson', 432438)])"
      ]
     },
     "execution_count": 10,
     "metadata": {},
     "output_type": "execute_result"
    }
   ],
   "source": [
    "counties_dict.items()"
   ]
  },
  {
   "cell_type": "code",
   "execution_count": 13,
   "metadata": {},
   "outputs": [
    {
     "data": {
      "text/plain": [
       "[{'county': 'El Paso', 'registered_voters': 461149},\n",
       " {'county': 'Jefferson', 'registered_voters': 432438},\n",
       " {'county': 'Denver', 'registered_voters': 463353},\n",
       " {'county': 'Arapahoe', 'registered_voters': 422829}]"
      ]
     },
     "execution_count": 13,
     "metadata": {},
     "output_type": "execute_result"
    }
   ],
   "source": [
    "voting_data = []\n",
    "\n",
    "voting_data.append({\"county\":\"El Paso\", \"registered_voters\": 461149})\n",
    "voting_data.append({\"county\":\"Jefferson\", \"registered_voters\": 432438})\n",
    "voting_data.append({\"county\":\"Denver\", \"registered_voters\": 463353})\n",
    "voting_data.append({'county': 'Arapahoe', 'registered_voters': 422829})\n",
    "voting_data"
   ]
  },
  {
   "cell_type": "code",
   "execution_count": 14,
   "metadata": {},
   "outputs": [
    {
     "name": "stdout",
     "output_type": "stream",
     "text": [
      "How many votes did you get in the election? 10\n",
      "What is the total votes in the election? 100\n",
      "I received 10.0% of the total votes.\n"
     ]
    }
   ],
   "source": [
    "# How many votes did you get?\n",
    "my_votes = int(input(\"How many votes did you get in the election? \"))\n",
    "#  Total votes in the election\n",
    "total_votes = int(input(\"What is the total votes in the election? \"))\n",
    "# Calculate the percentage of votes you received.\n",
    "percentage_votes = (my_votes / total_votes) * 100\n",
    "print(\"I received \" + str(percentage_votes)+\"% of the total votes.\")"
   ]
  },
  {
   "cell_type": "code",
   "execution_count": 15,
   "metadata": {},
   "outputs": [
    {
     "name": "stdout",
     "output_type": "stream",
     "text": [
      "Denver\n"
     ]
    }
   ],
   "source": [
    "counties = [\"Arapahoe\",\"Denver\",\"Jefferson\"]\n",
    "if counties[1] == 'Denver':\n",
    "    print(counties[1])"
   ]
  },
  {
   "cell_type": "code",
   "execution_count": 16,
   "metadata": {},
   "outputs": [
    {
     "name": "stdout",
     "output_type": "stream",
     "text": [
      "What is your test score? 90\n",
      "Your grade is an A.\n"
     ]
    }
   ],
   "source": [
    "# What is the score?\n",
    "score = int(input(\"What is your test score? \"))\n",
    "\n",
    "# Determine the grade.\n",
    "if score >= 90:\n",
    "    print('Your grade is an A.')\n",
    "elif score >= 80:\n",
    "    print('Your grade is a B.')\n",
    "elif score >= 70:\n",
    "    print('Your grade is a C.')\n",
    "elif score >= 60:\n",
    "    print('Your grade is a D.')\n",
    "else:\n",
    "    print('Your grade is an F.')"
   ]
  },
  {
   "cell_type": "code",
   "execution_count": 17,
   "metadata": {},
   "outputs": [
    {
     "name": "stdout",
     "output_type": "stream",
     "text": [
      "El Paso is not the list of counties.\n"
     ]
    }
   ],
   "source": [
    "counties = [\"Arapahoe\",\"Denver\",\"Jefferson\"]\n",
    "if \"El Paso\" in counties:\n",
    "    print(\"El Paso is in the list of counties.\")\n",
    "else:\n",
    "    print(\"El Paso is not the list of counties.\")"
   ]
  },
  {
   "cell_type": "code",
   "execution_count": 19,
   "metadata": {},
   "outputs": [
    {
     "name": "stdout",
     "output_type": "stream",
     "text": [
      "Arapahoe or El Paso is in the list of counties.\n"
     ]
    }
   ],
   "source": [
    "if \"Arapahoe\" in counties or \"El Paso\" in counties:\n",
    "    print(\"Arapahoe or El Paso is in the list of counties.\")\n",
    "else:\n",
    "    print(\"Arapahoe and El Paso are not in the list of counties.\")"
   ]
  },
  {
   "cell_type": "code",
   "execution_count": 20,
   "metadata": {},
   "outputs": [
    {
     "name": "stdout",
     "output_type": "stream",
     "text": [
      "0\n",
      "1\n",
      "2\n",
      "3\n",
      "4\n",
      "5\n"
     ]
    }
   ],
   "source": [
    "x = 0\n",
    "while x <= 5:\n",
    "    print(x)\n",
    "    x = x + 1"
   ]
  },
  {
   "cell_type": "code",
   "execution_count": 21,
   "metadata": {},
   "outputs": [
    {
     "name": "stdout",
     "output_type": "stream",
     "text": [
      "Arapahoe\n",
      "Denver\n",
      "Jefferson\n"
     ]
    }
   ],
   "source": [
    "for county in counties:\n",
    "    print(county)"
   ]
  },
  {
   "cell_type": "code",
   "execution_count": 22,
   "metadata": {},
   "outputs": [
    {
     "name": "stdout",
     "output_type": "stream",
     "text": [
      "Arapahoe\n",
      "Denver\n",
      "Jefferson\n"
     ]
    }
   ],
   "source": [
    "for i in range(len(counties)):\n",
    "    print(counties[i])\n",
    "    "
   ]
  },
  {
   "cell_type": "code",
   "execution_count": 26,
   "metadata": {},
   "outputs": [
    {
     "name": "stdout",
     "output_type": "stream",
     "text": [
      "Arapahoe\n",
      "Denver\n",
      "Jefferson\n",
      "---------\n",
      "422829\n",
      "463353\n",
      "432438\n"
     ]
    }
   ],
   "source": [
    "#Get keys in dict\n",
    "for county in counties_dict:\n",
    "    print(county)\n",
    "print(\"---------\")\n",
    "#Get values in dict\n",
    "for voters in counties_dict.values():\n",
    "    print(voters)"
   ]
  },
  {
   "cell_type": "code",
   "execution_count": 27,
   "metadata": {},
   "outputs": [
    {
     "name": "stdout",
     "output_type": "stream",
     "text": [
      "422829\n",
      "463353\n",
      "432438\n"
     ]
    }
   ],
   "source": [
    "for county in counties_dict:\n",
    "    print(counties_dict[county])"
   ]
  },
  {
   "cell_type": "code",
   "execution_count": 28,
   "metadata": {},
   "outputs": [
    {
     "name": "stdout",
     "output_type": "stream",
     "text": [
      "422829\n",
      "463353\n",
      "432438\n"
     ]
    }
   ],
   "source": [
    "for county in counties_dict:\n",
    "    print(counties_dict.get(county))"
   ]
  },
  {
   "cell_type": "code",
   "execution_count": null,
   "metadata": {},
   "outputs": [],
   "source": [
    "#Syntax\n",
    "for key, value in dictionary_name.items():\n",
    "    print(key, value)"
   ]
  },
  {
   "cell_type": "code",
   "execution_count": 30,
   "metadata": {
    "scrolled": true
   },
   "outputs": [
    {
     "name": "stdout",
     "output_type": "stream",
     "text": [
      "Arapahoe 422829\n",
      "Denver 463353\n",
      "Jefferson 432438\n"
     ]
    }
   ],
   "source": [
    "for county, voters in counties_dict.items():\n",
    "    print(county, voters)"
   ]
  },
  {
   "cell_type": "code",
   "execution_count": 31,
   "metadata": {},
   "outputs": [
    {
     "name": "stdout",
     "output_type": "stream",
     "text": [
      "{'county': 'Arapahoe', 'registered_voters': 422829}\n",
      "{'county': 'Denver', 'registered_voters': 463353}\n",
      "{'county': 'Jefferson', 'registered_voters': 432438}\n"
     ]
    }
   ],
   "source": [
    "voting_data = [{\"county\":\"Arapahoe\", \"registered_voters\": 422829},\n",
    "                {\"county\":\"Denver\", \"registered_voters\": 463353},\n",
    "                {\"county\":\"Jefferson\", \"registered_voters\": 432438}]\n",
    "\n",
    "for county_dict in voting_data:\n",
    "    print(county_dict)"
   ]
  },
  {
   "cell_type": "code",
   "execution_count": 32,
   "metadata": {},
   "outputs": [
    {
     "name": "stdout",
     "output_type": "stream",
     "text": [
      "Arapahoe\n",
      "422829\n",
      "Denver\n",
      "463353\n",
      "Jefferson\n",
      "432438\n"
     ]
    }
   ],
   "source": [
    "for county_dict in voting_data:\n",
    "    for value in county_dict.values():\n",
    "        print(value)"
   ]
  },
  {
   "cell_type": "code",
   "execution_count": 33,
   "metadata": {},
   "outputs": [
    {
     "name": "stdout",
     "output_type": "stream",
     "text": [
      "422829\n",
      "463353\n",
      "432438\n"
     ]
    }
   ],
   "source": [
    "for county_dict in voting_data:\n",
    "\n",
    "     print(county_dict['registered_voters'])"
   ]
  },
  {
   "cell_type": "code",
   "execution_count": 34,
   "metadata": {},
   "outputs": [
    {
     "name": "stdout",
     "output_type": "stream",
     "text": [
      "Arapahoe county has 369237 registered voters.\n",
      "Denver county has 413229 registered voters.\n",
      "Jefferson county has 390222 registered voters.\n"
     ]
    }
   ],
   "source": [
    "counties_dict = {\"Arapahoe\": 369237, \"Denver\":413229, \"Jefferson\": 390222}\n",
    "for county, voters in counties_dict.items():\n",
    "    print(county + \" county has \" + str(voters) + \" registered voters.\")"
   ]
  },
  {
   "cell_type": "code",
   "execution_count": 35,
   "metadata": {},
   "outputs": [
    {
     "name": "stdout",
     "output_type": "stream",
     "text": [
      "Arapahoe county has 369237 registered voters.\n",
      "Denver county has 413229 registered voters.\n",
      "Jefferson county has 390222 registered voters.\n"
     ]
    }
   ],
   "source": [
    "for county, voters in counties_dict.items():\n",
    "    print(f\"{county} county has {voters} registered voters.\")"
   ]
  },
  {
   "cell_type": "code",
   "execution_count": 37,
   "metadata": {},
   "outputs": [
    {
     "name": "stdout",
     "output_type": "stream",
     "text": [
      "How many votes did the candidate get in the election? 2\n",
      "What is the total number of votes in the election? 10\n",
      "You received 2 number of votes. The total number of votes in the election was 10. You received 20.00% of the total votes.\n"
     ]
    }
   ],
   "source": [
    "candidate_votes = int(input(\"How many votes did the candidate get in the election? \"))\n",
    "total_votes = int(input(\"What is the total number of votes in the election? \"))\n",
    "message_to_candidate = (\n",
    "    f\"You received {candidate_votes:,} number of votes. \"\n",
    "    f\"The total number of votes in the election was {total_votes:,}. \"\n",
    "    f\"You received {candidate_votes / total_votes * 100:.2f}% of the total votes.\")\n",
    "\n",
    "print(message_to_candidate)"
   ]
  },
  {
   "cell_type": "code",
   "execution_count": null,
   "metadata": {},
   "outputs": [],
   "source": []
  }
 ],
 "metadata": {
  "kernelspec": {
   "display_name": "Python 3",
   "language": "python",
   "name": "python3"
  },
  "language_info": {
   "codemirror_mode": {
    "name": "ipython",
    "version": 3
   },
   "file_extension": ".py",
   "mimetype": "text/x-python",
   "name": "python",
   "nbconvert_exporter": "python",
   "pygments_lexer": "ipython3",
   "version": "3.7.6"
  }
 },
 "nbformat": 4,
 "nbformat_minor": 4
}
