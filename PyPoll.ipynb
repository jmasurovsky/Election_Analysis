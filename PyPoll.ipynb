{
 "cells": [
  {
   "cell_type": "markdown",
   "metadata": {},
   "source": [
    "## PyPoll Election Analysis"
   ]
  },
  {
   "cell_type": "code",
   "execution_count": 1,
   "metadata": {},
   "outputs": [],
   "source": [
    "#Total number of votes cast\n",
    "#A complete list of candidates who received votes\n",
    "#Total number of votes each candidate received\n",
    "#Percentage of votes each candidate won\n",
    "#The winner of the election based on popular vote"
   ]
  },
  {
   "cell_type": "code",
   "execution_count": 3,
   "metadata": {},
   "outputs": [
    {
     "name": "stdout",
     "output_type": "stream",
     "text": [
      "The time right now is  2020-07-30 15:25:32.463193\n"
     ]
    }
   ],
   "source": [
    "# Import the datetime class from the datetime module.\n",
    "import datetime as dt\n",
    "# Use the now() attribute on the datetime class to get the present time.\n",
    "now = dt.datetime.now()\n",
    "# Print the present time.\n",
    "print(\"The time right now is \", now)"
   ]
  },
  {
   "cell_type": "code",
   "execution_count": null,
   "metadata": {},
   "outputs": [],
   "source": [
    "import csv\n",
    "dir(csv)"
   ]
  },
  {
   "cell_type": "code",
   "execution_count": null,
   "metadata": {},
   "outputs": [],
   "source": [
    "dir({'Arapahoe': 422829, 'Denver': 463353, 'Jefferson': 432438})"
   ]
  },
  {
   "cell_type": "code",
   "execution_count": 9,
   "metadata": {},
   "outputs": [
    {
     "name": "stdout",
     "output_type": "stream",
     "text": [
      "<_io.TextIOWrapper name='Resources/election_results.csv' mode='r' encoding='UTF-8'>\n"
     ]
    }
   ],
   "source": [
    "# Assign a variable for the file to load and the path.\n",
    "file_to_load = 'Resources/election_results.csv'\n",
    "\n",
    "# Open the election results and read the file\n",
    "with open(file_to_load) as election_data:\n",
    "\n",
    "     # To do: perform analysis.\n",
    "    print(election_data)"
   ]
  },
  {
   "cell_type": "code",
   "execution_count": 10,
   "metadata": {},
   "outputs": [
    {
     "name": "stdout",
     "output_type": "stream",
     "text": [
      "<_io.TextIOWrapper name='Resources/election_results.csv' mode='r' encoding='UTF-8'>\n"
     ]
    }
   ],
   "source": [
    "import csv\n",
    "import os\n",
    "# Assign a variable for the file to load and the path.\n",
    "file_to_load = os.path.join(\"Resources\", \"election_results.csv\")\n",
    "# Open the election results and read the file.\n",
    "with open(file_to_load) as election_data:\n",
    "\n",
    "    # Print the file object.\n",
    "     print(election_data)"
   ]
  },
  {
   "cell_type": "code",
   "execution_count": 22,
   "metadata": {},
   "outputs": [
    {
     "data": {
      "text/plain": [
       "<_io.TextIOWrapper name='analysis/election_analysis.txt' mode='w' encoding='UTF-8'>"
      ]
     },
     "execution_count": 22,
     "metadata": {},
     "output_type": "execute_result"
    }
   ],
   "source": [
    "# Create a filename variable to a direct or indirect path to the file.\n",
    "file_to_save = os.path.join(\"analysis\", \"election_analysis.txt\")\n",
    "# Using the open() function with the \"w\" mode we will write data to the file.\n",
    "open(file_to_save, \"w\")"
   ]
  },
  {
   "cell_type": "code",
   "execution_count": 23,
   "metadata": {},
   "outputs": [],
   "source": [
    "# Create a filename variable to a direct or indirect path to the file.\n",
    "file_to_save = os.path.join(\"analysis\", \"election_analysis.txt\")\n",
    "\n",
    "# Using the with statement open the file as a text file.\n",
    "outfile = open(file_to_save, \"w\")\n",
    "# Write some data to the file.\n",
    "outfile.write(\"Hello World\")\n",
    "\n",
    "# Close the file\n",
    "outfile.close()"
   ]
  },
  {
   "cell_type": "code",
   "execution_count": 38,
   "metadata": {},
   "outputs": [],
   "source": [
    "# Create a filename variable to a direct or indirect path to the file.\n",
    "file_to_save = os.path.join(\"analysis\", \"election_analysis.txt\")\n",
    "\n",
    "# Using the with statement open the file as a text file.\n",
    "with open(file_to_save, \"w\") as txt_file:\n",
    "\n",
    "    # Write some data to the file.\n",
    "    # Write three counties to the file.\n",
    "    #txt_file.write(\"Arapahoe, Denver, Jefferson\")\n",
    "    txt_file.write(\"Counties in the Election\\n------------------------\\nArapahoe\\nDenver\\nJefferson\")"
   ]
  },
  {
   "cell_type": "code",
   "execution_count": 57,
   "metadata": {},
   "outputs": [
    {
     "name": "stdout",
     "output_type": "stream",
     "text": [
      "Charles Casper Stockham: 23.0% (85,213)\n",
      "\n",
      "Diana DeGette: 73.8% (272,892)\n",
      "\n",
      "Raymon Anthony Doane: 3.1% (11,606)\n",
      "\n",
      "-------------------------\n",
      "Winner: Diana DeGette\n",
      "Winning Vote Count: 272,892\n",
      "Winning Percentage: 73.8%\n",
      "-------------------------\n",
      "\n"
     ]
    }
   ],
   "source": [
    "# Add our dependencies.\n",
    "import csv\n",
    "import os\n",
    "# Assign a variable to load a file from a path.\n",
    "file_to_load = os.path.join(\"Resources\", \"election_results.csv\")\n",
    "# Assign a variable to save the file to a path.\n",
    "file_to_save = os.path.join(\"analysis\", \"election_analysis.txt\")\n",
    "\n",
    "# 1. Initialize a total vote counter.\n",
    "total_votes = 0\n",
    "\n",
    "candidate_options = []\n",
    "\n",
    "candidate_votes = {}\n",
    "\n",
    "# Winning Candidate and Winning Count Tracker\n",
    "winning_candidate = \"\"\n",
    "winning_count = 0\n",
    "winning_percentage = 0\n",
    "\n",
    "# Open the election results and read the file.\n",
    "with open(file_to_load) as election_data:\n",
    "    # Read the file object with the reader function.\n",
    "     # Read the file object with the reader function.\n",
    "    file_reader = csv.reader(election_data)\n",
    "    \n",
    "    # Print the header row.\n",
    "    headers = next(file_reader)\n",
    "    \n",
    "    # Print each row in the CSV file.\n",
    "    for row in file_reader:\n",
    "        # 2. Add to the total vote count.\n",
    "        total_votes += 1\n",
    "        # Print the candidate name from each row\n",
    "        candidate_name = row[2]\n",
    "        # If the candidate does not match any existing candidate...\n",
    "        if candidate_name not in candidate_options:\n",
    "            # Add it to the list of candidates.\n",
    "            candidate_options.append(candidate_name)\n",
    "            \n",
    "            \n",
    "           # 2. Begin tracking that candidate's vote count.\n",
    "            candidate_votes[candidate_name] = 0\n",
    "            \n",
    "        candidate_votes[candidate_name] += 1\n",
    "# Determine the percentage of votes for each candidate by looping through the counts.\n",
    "# 1. Iterate through the candidate list.\n",
    "for candidate_name in candidate_votes:\n",
    "    # 2. Retrieve vote count of a candidate.\n",
    "    votes = candidate_votes[candidate_name]\n",
    "    # 3. Calculate the percentage of votes.\n",
    "    vote_percentage = float(votes) / float(total_votes) * 100\n",
    "    # 4. Print the candidate name and percentage of votes.\n",
    "   # print(f\"{candidate_name}: received {vote_percentage}% of the vote.\")\n",
    "\n",
    "    #  To do: print out each candidate's name, vote count, and percentage of\n",
    "    # votes to the terminal.\n",
    "    print(f\"{candidate_name}: {vote_percentage:.1f}% ({votes:,})\\n\")\n",
    "\n",
    "    \n",
    "    \n",
    "    \n",
    "    # Determine winning vote count and candidate\n",
    "# 1. Determine if the votes are greater than the winning count.\n",
    "    if (votes > winning_count) and (vote_percentage > winning_percentage):\n",
    "         # 2. If true then set winning_count = votes and winning_percent =\n",
    "         # vote_percentage.\n",
    "        winning_count = votes\n",
    "        winning_percentage = vote_percentage\n",
    "         # 3. Set the winning_candidate equal to the candidate's name.\n",
    "        winning_candidate = candidate_name\n",
    "    winning_candidate_summary = (\n",
    "    f\"-------------------------\\n\"\n",
    "    f\"Winner: {winning_candidate}\\n\"\n",
    "    f\"Winning Vote Count: {winning_count:,}\\n\"\n",
    "    f\"Winning Percentage: {winning_percentage:.1f}%\\n\"\n",
    "    f\"-------------------------\\n\")\n",
    "print(winning_candidate_summary)\n",
    "        \n",
    "#print(candidate_votes)\n",
    "    \n",
    "    \n",
    "# Print each row in the CSV file.\n",
    "  #  for row in file_reader:\n",
    "  #      print(row)"
   ]
  },
  {
   "cell_type": "code",
   "execution_count": null,
   "metadata": {},
   "outputs": [],
   "source": []
  }
 ],
 "metadata": {
  "kernelspec": {
   "display_name": "Python 3",
   "language": "python",
   "name": "python3"
  },
  "language_info": {
   "codemirror_mode": {
    "name": "ipython",
    "version": 3
   },
   "file_extension": ".py",
   "mimetype": "text/x-python",
   "name": "python",
   "nbconvert_exporter": "python",
   "pygments_lexer": "ipython3",
   "version": "3.7.6"
  }
 },
 "nbformat": 4,
 "nbformat_minor": 4
}
